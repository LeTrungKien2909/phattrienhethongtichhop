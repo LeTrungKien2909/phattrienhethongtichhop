{
  "cells": [
    {
      "cell_type": "markdown",
      "metadata": {
        "id": "YkcEmCK3fz6Z"
      },
      "source": [
        "# 1. Hiển thị tên máy hiện tại, sử dụng hàm gethostname()"
      ]
    },
    {
      "cell_type": "code",
      "execution_count": 1,
      "metadata": {
        "id": "7oHb3xjtfz6h",
        "outputId": "18800e4b-cb04-49c4-ce88-2cb595f6f36e",
        "colab": {
          "base_uri": "https://localhost:8080/"
        }
      },
      "outputs": [
        {
          "output_type": "stream",
          "name": "stdout",
          "text": [
            "Host name 328cfe632c2a\n"
          ]
        }
      ],
      "source": [
        "import socket\n",
        "host_name =socket.gethostname()\n",
        "print(\"Host name\", host_name)"
      ]
    },
    {
      "cell_type": "markdown",
      "metadata": {
        "id": "YQc3nJeCfz6o"
      },
      "source": [
        "# 2. Hiển thị đc IP của máy đang sử dụng, sử dụng hàm gethostbyname(tenmay)"
      ]
    },
    {
      "cell_type": "code",
      "execution_count": 3,
      "metadata": {
        "id": "BT6JiDhvfz6p",
        "outputId": "cb7bd6d3-2a41-4ed3-9da9-4b54a2d4802f",
        "colab": {
          "base_uri": "https://localhost:8080/"
        }
      },
      "outputs": [
        {
          "output_type": "stream",
          "name": "stdout",
          "text": [
            "IP address of 328cfe632c2a is 172.28.0.12\n"
          ]
        }
      ],
      "source": [
        "import socket\n",
        "host_name = socket.gethostname()\n",
        "ip_address = socket.gethostbyname(host_name)\n",
        "print(\"IP address of \"+ host_name + \" is \" + ip_address)"
      ]
    },
    {
      "cell_type": "markdown",
      "metadata": {
        "id": "gatpniPPfz6q"
      },
      "source": [
        "# 3. Viết đoạn script cho phép người dùng lấy địa chỉ IP của máy hiện tại"
      ]
    },
    {
      "cell_type": "code",
      "execution_count": 4,
      "metadata": {
        "id": "OUHyOL5Zfz6r",
        "colab": {
          "base_uri": "https://localhost:8080/"
        },
        "outputId": "719f6f4c-256d-40fb-dbe3-88c6129bb5e3"
      },
      "outputs": [
        {
          "output_type": "stream",
          "name": "stdout",
          "text": [
            "Tên máy hiện tại: 328cfe632c2a\n",
            "Địa chỉ IP của 328cfe632c2a là 172.28.0.12\n"
          ]
        }
      ],
      "source": [
        "import socket\n",
        "\n",
        "\n",
        "host_name = socket.gethostname()\n",
        "\n",
        "ip_address = socket.gethostbyname(host_name)\n",
        "\n",
        "\n",
        "print(\"Tên máy hiện tại: \" + host_name)\n",
        "print(\"Địa chỉ IP của \" + host_name + \" là \" + ip_address)\n"
      ]
    },
    {
      "cell_type": "markdown",
      "metadata": {
        "id": "vC2VJtXIfz6s"
      },
      "source": [
        "# 4. Truy vấn địa chỉ IP ở xa\n",
        "Khi một thiết bị kết nối vào mạng Internet muốn trao đổi thông tin với các thiết bị khác trong mạng, thiết bị đó cần được cấp một đcIP xác định và phải biết được đcIP của thiết bị mình cần tương tác.\n",
        "\n",
        "Vậy làm cách nào bạn có thể dịch tên của host_name thành đcIP?\n",
        "\n",
        "Vd: muốn biết đcIP của tuoitre.vn hoặc google.com -> gethostbyname()"
      ]
    },
    {
      "cell_type": "code",
      "execution_count": 5,
      "metadata": {
        "id": "Ku4B9sOkfz6t",
        "colab": {
          "base_uri": "https://localhost:8080/"
        },
        "outputId": "17ef9293-f6ba-4bc5-e724-685e09981427"
      },
      "outputs": [
        {
          "output_type": "stream",
          "name": "stdout",
          "text": [
            "Địa chỉ IP của tuoitre.vn là: 14.225.199.147\n"
          ]
        }
      ],
      "source": [
        "### START CODE HERE ###\n",
        "import socket\n",
        "\n",
        "host_name = \"tuoitre.vn\"\n",
        "dia_chi_ip = socket.gethostbyname(host_name)\n",
        "\n",
        "print(f\"Địa chỉ IP của {host_name} là: {dia_chi_ip}\")\n"
      ]
    },
    {
      "cell_type": "markdown",
      "metadata": {
        "id": "yTaq51Utfz6u"
      },
      "source": [
        "# 5. Chuyển đc IPv4 sang định dạng khác\n",
        "Địa chỉ IPv4 là một dãy số nhị phân 32-bit. Tuy nhiên, để thuận tiện cho người dùng, thông thường nó được thể hiển theo dạng chuỗi bao gồm 4 octet cách nhau bởi dấu (.) chấm (Vd: 192.168.0.1)\n",
        "\n",
        "Trường hợp ký hiệu địa chỉ IP (dạng X.X.X.X)không phù hợp với các xử lý trong lập trình, khi đó chúng cần được chuyển đổi sang các định dạng nhị phân 32 bit."
      ]
    },
    {
      "cell_type": "code",
      "execution_count": 6,
      "metadata": {
        "id": "_5t3AnhIfz6v",
        "outputId": "68bce5a5-e346-49fd-d930-6d5fee92603c",
        "colab": {
          "base_uri": "https://localhost:8080/"
        }
      },
      "outputs": [
        {
          "output_type": "stream",
          "name": "stdout",
          "text": [
            "Địa chỉ IP 192.168.0.1 dưới dạng nhị phân là: 11000000101010000000000000000001\n"
          ]
        }
      ],
      "source": [
        "def ip_string_to_binary(ip_string):\n",
        "    # Tách chuỗi IP thành danh sách các octet dựa trên dấu chấm\n",
        "    octets = ip_string.split(\".\")\n",
        "\n",
        "    # Chuyển đổi mỗi octet thành dạng nhị phân và nối chúng lại với nhau\n",
        "    binary_ip = \"\"\n",
        "    for octet in octets:\n",
        "        binary_ip += bin(int(octet))[2:].zfill(8)  # Chuyển đổi thành nhị phân và điền đủ 8 bits\n",
        "\n",
        "    return binary_ip\n",
        "\n",
        "# Sử dụng hàm\n",
        "ipv4_string = \"192.168.0.1\"\n",
        "binary_ipv4 = ip_string_to_binary(ipv4_string)\n",
        "print(f\"Địa chỉ IP {ipv4_string} dưới dạng nhị phân là: {binary_ipv4}\")"
      ]
    },
    {
      "cell_type": "markdown",
      "metadata": {
        "id": "Hdo33Kfffz6x"
      },
      "source": [
        "# 6. Sinh viên hãy cho biết kết quả của 2 câu lệnh dưới đây\n",
        "import socket\n",
        "\n",
        "help(socket.inet_ntoa)"
      ]
    },
    {
      "cell_type": "code",
      "execution_count": null,
      "metadata": {
        "id": "lFIAia25fz6y"
      },
      "outputs": [],
      "source": [
        "#Sinh viên ghi kết qủa\n",
        "#Kết quả sau khi chạy đoạn mã trên sẽ hiển thị các địa chỉ bộ nhớ của x, y, và temp.\n"
      ]
    },
    {
      "cell_type": "code",
      "execution_count": 7,
      "metadata": {
        "id": "TYQLGXC5fz6z",
        "colab": {
          "base_uri": "https://localhost:8080/"
        },
        "outputId": "1898bbfb-f987-4e29-cf3c-f13e84e139bc"
      },
      "outputs": [
        {
          "output_type": "stream",
          "name": "stdout",
          "text": [
            "Memory address of x: 133466518570512\n",
            "Memory address of y: 133466090314544\n",
            "Memory address of temp: 133466380003904\n"
          ]
        }
      ],
      "source": [
        "### START CODE HERE ###\n",
        "# writing code to get the address (in RAM) of x, y, temp through the built-in function id()\n",
        "# Assign values to variables x, y, and temp\n",
        "x = 42\n",
        "y = \"Hello, world!\"\n",
        "temp = [1, 2, 3]\n",
        "\n",
        "# Get memory addresses of variables using id()\n",
        "address_x = id(x)\n",
        "address_y = id(y)\n",
        "address_temp = id(temp)\n",
        "\n",
        "# Print memory addresses\n",
        "print(f\"Memory address of x: {address_x}\")\n",
        "print(f\"Memory address of y: {address_y}\")\n",
        "print(f\"Memory address of temp: {address_temp}\")\n",
        "### END CODE HERE ###"
      ]
    },
    {
      "cell_type": "markdown",
      "metadata": {
        "id": "SYnaTGeQfz60"
      },
      "source": [
        "# 7. Sinh viên hãy cho biết kết quả của 2 câu lệnh dưới đây:\n",
        "\n",
        "![image.png](attachment:image.png)"
      ]
    },
    {
      "cell_type": "code",
      "execution_count": 8,
      "metadata": {
        "id": "Yj5Ed1Szfz60",
        "colab": {
          "base_uri": "https://localhost:8080/"
        },
        "outputId": "bf6a78ae-5838-41da-9a5f-55b703f1ecf9"
      },
      "outputs": [
        {
          "output_type": "stream",
          "name": "stdout",
          "text": [
            "IP Address: 127.0.0.1 => Packed: b'7f000001', Unpacked: 127.0.0.1\n",
            "IP Address: 192.168.0.1 => Packed: b'c0a80001', Unpacked: 192.168.0.1\n"
          ]
        }
      ],
      "source": [
        "#  Start Code HERE\n",
        "import socket\n",
        "from binascii import hexlify\n",
        "\n",
        "def convert_ip4_address():\n",
        "  for ip_addr in ['127.0.0.1', '192.168.0.1']:\n",
        "    packed_ip_addr = socket.inet_aton(ip_addr)\n",
        "    unpacked_ip_addr = socket.inet_ntoa(packed_ip_addr)\n",
        "    print(\"IP Address: %s => Packed: %s, Unpacked: %s\" % (ip_addr, hexlify(packed_ip_addr), unpacked_ip_addr))\n",
        "\n",
        "if __name__ == \"__main__\":\n",
        "  convert_ip4_address()\n",
        "\n",
        "\n",
        "\n",
        "# Write Result HERE\n",
        "#\n",
        "#"
      ]
    },
    {
      "cell_type": "markdown",
      "metadata": {
        "id": "dKyc5b7Qfz61"
      },
      "source": [
        "# 8. ICMP Echo Request\n",
        "ICMP Echo Request được biết đến bằng cách sử dụng lệnh ping. Gói ICMP được gửi đến máy chủ bằng địa chỉ IP và trả về kết quả thông qua trường TYPE. Dựa vào giá trị của TYPE để xác định tình trạng của máy chủ hiện tại.\n",
        "\n",
        "Một số giá trị của TYPE:\n",
        "\n",
        "0: Echo Reply\n",
        "\n",
        "2: No response\n",
        "\n",
        "...\n",
        "\n",
        "Sinh viên thực hoàn thành đoạn code sau và cho biết kết quả\n",
        "\n",
        "![image.png](attachment:image.png)"
      ]
    },
    {
      "cell_type": "code",
      "execution_count": 13,
      "metadata": {
        "id": "Xpz6BApVfz62",
        "colab": {
          "base_uri": "https://localhost:8080/"
        },
        "outputId": "c27720a1-b08a-4ec9-8794-a6e9d9dcddda"
      },
      "outputs": [
        {
          "output_type": "stream",
          "name": "stdout",
          "text": [
            "Type value: 0\n",
            "Ping to www.google.com OK\n"
          ]
        }
      ],
      "source": [
        "import subprocess\n",
        "\n",
        "address = \"www.google.com\"\n",
        "res = subprocess.call(['ping', '-c', '4', address])  # Thêm '-c' để chỉ định số gói tin ping\n",
        "\n",
        "print(\"Type value:\", str(res))\n",
        "\n",
        "if res == 0:\n",
        "    print(\"Ping to\", address, \"OK\")\n",
        "elif res == 2:\n",
        "    print(\"No response from\", address)\n",
        "else:\n",
        "    print(\"Ping to\", address, \"failed!\")"
      ]
    },
    {
      "cell_type": "code",
      "source": [
        "!apt-get install iputils-ping"
      ],
      "metadata": {
        "colab": {
          "base_uri": "https://localhost:8080/"
        },
        "id": "tK1FLPqbvPVI",
        "outputId": "f4d115a1-4acc-4fc6-cc90-a70157525db2"
      },
      "execution_count": 12,
      "outputs": [
        {
          "output_type": "stream",
          "name": "stdout",
          "text": [
            "Reading package lists... Done\n",
            "Building dependency tree... Done\n",
            "Reading state information... Done\n",
            "The following NEW packages will be installed:\n",
            "  iputils-ping\n",
            "0 upgraded, 1 newly installed, 0 to remove and 18 not upgraded.\n",
            "Need to get 42.9 kB of archives.\n",
            "After this operation, 116 kB of additional disk space will be used.\n",
            "Get:1 http://archive.ubuntu.com/ubuntu jammy/main amd64 iputils-ping amd64 3:20211215-1 [42.9 kB]\n",
            "Fetched 42.9 kB in 0s (242 kB/s)\n",
            "Selecting previously unselected package iputils-ping.\n",
            "(Reading database ... 120895 files and directories currently installed.)\n",
            "Preparing to unpack .../iputils-ping_3%3a20211215-1_amd64.deb ...\n",
            "Unpacking iputils-ping (3:20211215-1) ...\n",
            "Setting up iputils-ping (3:20211215-1) ...\n",
            "Processing triggers for man-db (2.10.2-1) ...\n"
          ]
        }
      ]
    },
    {
      "cell_type": "code",
      "execution_count": null,
      "metadata": {
        "id": "t8VLiUOffz63"
      },
      "outputs": [],
      "source": [
        "### START CODE HERE ###\n",
        "#\n",
        "\n",
        "### END CODE HERE ###"
      ]
    },
    {
      "cell_type": "markdown",
      "metadata": {
        "id": "Nw8ZScRMfz64"
      },
      "source": [
        "# BÀI TẬP\n",
        "Bài 1: Hãy thực thi câu lệnh sau và cho biết kết quả:\n",
        "\n",
        "a)\n",
        "\n",
        "import socket\n",
        "\n",
        "help(socket.gethostname)\n",
        "\n",
        "b)\n",
        "\n",
        "import socket\n",
        "\n",
        "help(socket.gethostbyname)\n",
        "\n",
        "Bài 2: Sinh viên hãy thực hiện lại thí dụ 4, với Input hostname nhập vào là 255.255.255.256, hãy giải thích kết quả nhận được.  \n",
        "\n",
        "Bài 3: Hãy cải tiến thí dụ 4 bằng cách sử dụng vòng lặp cho phép người dùng liên tục nhập hostname và in ra địa chỉ IP, vòng lặp chỉ kết thúc khi người dùng nhập phím Q.\n",
        "\n",
        "Bài 4: Trong thí dụ 8, có sử dụng hàm subprocess, sinh viên hãy tìm hiểu và trình bày hàm subprocess, có giải thích và thí dụ minh họa.\n"
      ]
    },
    {
      "cell_type": "code",
      "execution_count": 14,
      "metadata": {
        "id": "u-HeojC9fz64",
        "colab": {
          "base_uri": "https://localhost:8080/"
        },
        "outputId": "79ceb331-8bf3-4751-bcc2-d8b0ad5615c3"
      },
      "outputs": [
        {
          "output_type": "stream",
          "name": "stdout",
          "text": [
            "Help on built-in function gethostname in module _socket:\n",
            "\n",
            "gethostname(...)\n",
            "    gethostname() -> string\n",
            "    \n",
            "    Return the current host name.\n",
            "\n",
            "Help on built-in function gethostbyname in module _socket:\n",
            "\n",
            "gethostbyname(...)\n",
            "    gethostbyname(host) -> address\n",
            "    \n",
            "    Return the IP address (a string of the form '255.255.255.255') for a host.\n",
            "\n",
            "Không thể truy vấn địa chỉ IP của 255.255.255.256\n",
            "Vui lòng nhập hostname (hoặc nhập 'Q' để thoát): Q\n",
            "Chương trình kết thúc. Tạm biệt!\n",
            "STDOUT: sample_data\n",
            "\n",
            "STDERR: \n",
            "ping to www.google.com OK\n"
          ]
        }
      ],
      "source": [
        "### START CODE HERE ###\n",
        "#Bài 1 )\n",
        "# a)\n",
        "import socket\n",
        "help(socket.gethostname)\n",
        "#RESULT\n",
        "#   Help on built-in function gethostname in module _socket:\n",
        "#   gethostname(...)\n",
        "#   gethostname() -> string\n",
        "#   Return the current host name.\n",
        "\n",
        "# b)\n",
        "import socket\n",
        "help(socket.gethostbyname)\n",
        "#RESULT\n",
        "#   Help on built-in function gethostbyname in module _socket:\n",
        "#   gethostbyname(...)\n",
        "#   gethostbyname(host) -> address\n",
        "#    Return the IP address (a string of the form '255.255.255.255') for a host.\n",
        "\n",
        "#Bài 2 )\n",
        "import socket\n",
        "\n",
        "def query_ip_address(host_name):\n",
        "    try:\n",
        "        # Truy vấn địa chỉ IP từ tên của host\n",
        "        ip_address = socket.gethostbyname(host_name)\n",
        "        return f\"Địa chỉ IP của {host_name} là {ip_address}\"\n",
        "    except socket.gaierror:\n",
        "        return f\"Không thể truy vấn địa chỉ IP của {host_name}\"\n",
        "\n",
        "# Ví dụ sử dụng\n",
        "print(query_ip_address(\"255.255.255.256\"))\n",
        "#Kết quả: Không thể truy vấn địa chỉ IP của 255.255.255.256\n",
        "\n",
        "#Giải thích: Giá trị \"255.255.255.256\" không phải là một địa chỉ IP hợp lệ do giá trị của một octet (byte) trong IPv4\n",
        "#chỉ có thể nằm trong phạm vi từ 0 đến 255. Hơn nữa, hàm gethostbyname cố gắng tìm địa chỉ IP tương ứng\n",
        "#với một hostname (tên máy chủ), và \"255.255.255.256\" không phải là một hostname hợp lệ.\n",
        "#Do đó, hàm sẽ không trả về địa chỉ IP và thể hiện lỗi bắt bởi socket.gaierror trong khối except.\n",
        "\n",
        "\n",
        "#Bài 3 )\n",
        "import socket\n",
        "\n",
        "def query_ip_address(host_name):\n",
        "    try:\n",
        "        # Truy vấn địa chỉ IP từ tên của host\n",
        "        ip_address = socket.gethostbyname(host_name)\n",
        "        return f\"Địa chỉ IP của {host_name} là {ip_address}\"\n",
        "    except socket.gaierror:\n",
        "        return f\"Không thể truy vấn địa chỉ IP của {host_name}\"\n",
        "\n",
        "# Vòng lặp để cho phép người dùng liên tục nhập hostname\n",
        "while True:\n",
        "    host_name = input(\"Vui lòng nhập hostname (hoặc nhập 'Q' để thoát): \")\n",
        "\n",
        "    if host_name.upper() == 'Q':\n",
        "        print(\"Chương trình kết thúc. Tạm biệt!\")\n",
        "        break\n",
        "\n",
        "    print(query_ip_address(host_name))\n",
        "\n",
        "\n",
        "#Bài 4 )\n",
        "\n",
        "#Module subprocess trong Python được dùng để chạy và tương tác với các process con, cho phép chạy các lệnh shell và lấy kết quả trả về.\n",
        "#Phương thức chính:\n",
        "#subprocess.run(): Chạy lệnh, chờ lệnh hoàn thành, và trả về đối tượng chứa thông tin như exit code.\n",
        "import subprocess\n",
        "subprocess.run(['dir'], shell=True)\n",
        "#subprocess.call(): Tương tự như run() nhưng chỉ trả về exit code.\n",
        "import subprocess\n",
        "exit_code = subprocess.call('dir', shell=True)\n",
        "#subprocess.Popen(): Để tương tác phức tạp hơn với process con, có thể đọc stdout và stderr.\n",
        "import subprocess\n",
        "\n",
        "process = subprocess.Popen('dir', stdout=subprocess.PIPE, stderr=subprocess.PIPE, shell=True)\n",
        "stdout, stderr = process.communicate()\n",
        "print(\"STDOUT:\", stdout.decode('cp437', errors='ignore'))\n",
        "print(\"STDERR:\", stderr.decode('cp437', errors='ignore'))\n",
        "\n",
        "#Ví dụ minh họa:\n",
        "#Chạy lệnh ping để kiểm tra kết nối đến \"www.google.com\" và lấy exit code.\n",
        "import subprocess\n",
        "address = \"www.google.com\"\n",
        "res = subprocess.call(['ping', '-c', '1', address])\n",
        "if res == 0:\n",
        "    print(f\"ping to {address} OK\")\n",
        "else:\n",
        "    print(f\"ping to {address} failed!\")\n",
        "\n",
        "\n",
        "### END CODE HERE ###"
      ]
    },
    {
      "cell_type": "markdown",
      "metadata": {
        "id": "hWdmneE0fz65"
      },
      "source": [
        "#TÀI LIỆU THAM KHẢO\n",
        "\n",
        "https://www.python-course.eu/conditional_statements.php\n",
        "\n",
        "https://www.w3schools.com/python/python_conditions.asp\n",
        "\n",
        "https://jaxenter.com/differences-python-2-3-148432.html\n",
        "\n",
        "https://jaxenter.com/implement-switch-case-statement-python-138315.html\n",
        "\n",
        "https://www.geeksforgeeks.org/network-scanner-in-python/"
      ]
    }
  ],
  "metadata": {
    "kernelspec": {
      "display_name": "Python 3",
      "language": "python",
      "name": "python3"
    },
    "language_info": {
      "codemirror_mode": {
        "name": "ipython",
        "version": 3
      },
      "file_extension": ".py",
      "mimetype": "text/x-python",
      "name": "python",
      "nbconvert_exporter": "python",
      "pygments_lexer": "ipython3",
      "version": "3.10.8"
    },
    "colab": {
      "provenance": []
    }
  },
  "nbformat": 4,
  "nbformat_minor": 0
}