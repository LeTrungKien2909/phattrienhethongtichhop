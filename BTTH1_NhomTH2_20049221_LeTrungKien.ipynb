{
  "cells": [
    {
      "cell_type": "markdown",
      "metadata": {
        "id": "h4YZNbLUj_PK"
      },
      "source": [
        "# Họ và tên: Lê Trung Kiên\n",
        "# MSSV:20049221\n",
        "# Lớp học phần - Nhóm TH:2"
      ]
    },
    {
      "cell_type": "markdown",
      "metadata": {
        "id": "3S-JbA37j_PO"
      },
      "source": [
        "# 1. Hello world!"
      ]
    },
    {
      "cell_type": "code",
      "execution_count": null,
      "metadata": {
        "id": "6z42YIbPj_PP",
        "outputId": "463343a8-5ab8-4230-e747-c06228311167"
      },
      "outputs": [
        {
          "name": "stdout",
          "output_type": "stream",
          "text": [
            "Hello world!\n"
          ]
        }
      ],
      "source": [
        "print(\"Hello world!\")"
      ]
    },
    {
      "cell_type": "markdown",
      "metadata": {
        "id": "NsIpKQ6aj_PR"
      },
      "source": [
        "# 2. Program to Add Two Numbers"
      ]
    },
    {
      "cell_type": "code",
      "source": [],
      "metadata": {
        "id": "P7gtw-PFt67D"
      },
      "execution_count": null,
      "outputs": []
    },
    {
      "cell_type": "markdown",
      "metadata": {
        "id": "dnDbHwEjj_PS"
      },
      "source": [
        "## Add Two Numbers"
      ]
    },
    {
      "cell_type": "code",
      "execution_count": null,
      "metadata": {
        "id": "aq1uXQMlj_PS",
        "outputId": "ed335018-fdee-4839-9fbb-d916673df31f"
      },
      "outputs": [
        {
          "name": "stdout",
          "output_type": "stream",
          "text": [
            "tong= 7.8\n"
          ]
        }
      ],
      "source": [
        "num1 = 1.5\n",
        "num2 = 6.3\n",
        "\n",
        "### START CODE HERE ###\n",
        "# Add two numbers\n",
        "\n",
        "sum = num1 +num2\n",
        "\n",
        "# Display the sum\n",
        "print('tong=' ,sum)"
      ]
    },
    {
      "cell_type": "markdown",
      "metadata": {
        "id": "FNXWKnbfj_PT"
      },
      "source": []
    },
    {
      "cell_type": "markdown",
      "metadata": {
        "id": "79_2yaUbj_PT"
      },
      "source": [
        "##  Add Two Numbers With User Input"
      ]
    },
    {
      "cell_type": "markdown",
      "metadata": {
        "id": "NGukIgwlj_PU"
      },
      "source": []
    },
    {
      "cell_type": "code",
      "execution_count": 11,
      "metadata": {
        "colab": {
          "base_uri": "https://localhost:8080/"
        },
        "id": "a7eW4AIVj_PU",
        "outputId": "ebb99781-2560-46d3-dc0a-ab106fbd8351"
      },
      "outputs": [
        {
          "output_type": "stream",
          "name": "stdout",
          "text": [
            "num1: 2\n",
            "num2: 9\n",
            "tong= 11.0\n"
          ]
        }
      ],
      "source": [
        "# Store input numbers\n",
        "num1 = float(input(\"num1: \"))\n",
        "num2 = float(input(\"num2: \"))\n",
        "\n",
        "### START CODE HERE ###\n",
        "\n",
        "# Add two numbers\n",
        "sum  = num1 +num2\n",
        "\n",
        "### END CODE HERE ###\n",
        "\n",
        "# Display the sum\n",
        "print(\"tong=\" ,sum)"
      ]
    },
    {
      "cell_type": "markdown",
      "metadata": {
        "id": "wXpbjCmwj_PV"
      },
      "source": [
        "# 3. Program to Find the Square Root"
      ]
    },
    {
      "cell_type": "code",
      "execution_count": 5,
      "metadata": {
        "colab": {
          "base_uri": "https://localhost:8080/"
        },
        "id": "1l_hHiZrj_PV",
        "outputId": "f5ff4ce5-57f5-49ae-89c9-2248d0b39b1c"
      },
      "outputs": [
        {
          "output_type": "stream",
          "name": "stdout",
          "text": [
            "Căn bậc 2 của 8 là: 2.8284271247461903\n"
          ]
        }
      ],
      "source": [
        "# Python Program to calculate the square root\n",
        "import math\n",
        "# Note: change this value for a different result\n",
        "num = 8\n",
        "\n",
        "# To take the input from the user\n",
        "#num = float(input('Enter a number: '))\n",
        "\n",
        "# calculate the square root\n",
        "\n",
        "ketqua = math.sqrt(num)\n",
        "\n",
        "# print the value of the square root\n",
        "\n",
        "print(\"Căn bậc 2 của\", num, \"là:\", ketqua)"
      ]
    },
    {
      "cell_type": "markdown",
      "metadata": {
        "id": "il9maZP4j_PW"
      },
      "source": [
        "# 4. Program to Calculate the Area of a Triangle\n",
        "s = (a+b+c)/2\n",
        "\n",
        "area = √(s(s-a)*(s-b)*(s-c))"
      ]
    },
    {
      "cell_type": "code",
      "execution_count": 7,
      "metadata": {
        "colab": {
          "base_uri": "https://localhost:8080/"
        },
        "id": "ejq5oqgZj_PW",
        "outputId": "60449e3b-fa6b-472a-b013-bcacb288d4cf"
      },
      "outputs": [
        {
          "output_type": "stream",
          "name": "stdout",
          "text": [
            "Nhập độ dài cạnh a: 3\n",
            "Nhập độ dài cạnh b: 4\n",
            "Nhập độ dài cạnh c: 5\n",
            "The area of the triangle is 6.00\n"
          ]
        }
      ],
      "source": [
        "### START CODE HERE ###\n",
        "\n",
        "# take inputs from the user\n",
        "a = float(input(\"Nhập độ dài cạnh a: \"))\n",
        "b = float(input(\"Nhập độ dài cạnh b: \"))\n",
        "c = float(input(\"Nhập độ dài cạnh c: \"))\n",
        "\n",
        "# calculate the semi-perimeter\n",
        "s = (a+b+c) /2\n",
        "\n",
        "# calculate the area\n",
        "area = math.sqrt(s * (s - a) * (s - b) * (s - c))\n",
        "\n",
        "### END CODE HERE ###\n",
        "\n",
        "print('The area of the triangle is %0.2f' %area)"
      ]
    },
    {
      "cell_type": "markdown",
      "metadata": {
        "id": "vzE9MPthj_PX"
      },
      "source": [
        "# 5. Program to Solve Quadratic Equation\n",
        "ax2 + bx + c = 0, where a, b and c are real numbers and a ≠ 0"
      ]
    },
    {
      "cell_type": "code",
      "execution_count": 21,
      "metadata": {
        "colab": {
          "base_uri": "https://localhost:8080/"
        },
        "id": "A5BJZf5Fj_PX",
        "outputId": "170a3514-39dc-4a9c-bf13-5bdd33dd848f"
      },
      "outputs": [
        {
          "output_type": "stream",
          "name": "stdout",
          "text": [
            "Enter the first number: 4\n",
            "Enter the first number: 3\n",
            "Enter the first number: -1\n",
            "The solution are 0.25 and -1.0\n"
          ]
        }
      ],
      "source": [
        "# take inputs from the user\n",
        "a = float(input(\"Enter the first number: \"))\n",
        "b = float(input(\"Enter the first number: \"))\n",
        "c = float(input(\"Enter the first number: \"))\n",
        "# calculate the discriminant\n",
        "\n",
        "delta = b**2 - 4*a*c\n",
        "if delta > 0:\n",
        "    x1 = (-b + math.sqrt(delta)) / (2*a)\n",
        "    x2 = (-b - math.sqrt(delta)) / (2*a)\n",
        "\n",
        "\n",
        "\n",
        "# find two solutions using square root for real/complex number\n",
        "\n",
        "### END CODE HERE ###\n",
        "\n",
        "print('The solution are {0} and {1}'.format(x1,x2))\n"
      ]
    },
    {
      "cell_type": "markdown",
      "metadata": {
        "id": "APnal-Tdj_PY"
      },
      "source": [
        "# 6. Program to Swap Two Variables"
      ]
    },
    {
      "cell_type": "code",
      "execution_count": 12,
      "metadata": {
        "colab": {
          "base_uri": "https://localhost:8080/"
        },
        "id": "9Bv5wvYBj_PY",
        "outputId": "7b402274-ce8c-483c-a6ee-a42eb4575612"
      },
      "outputs": [
        {
          "output_type": "stream",
          "name": "stdout",
          "text": [
            "Nhập giá trị của biến x: 7\n",
            "Nhập giá trị của biến y: 10\n",
            "Sau khi hoán đổi, giá trị của x là 10 và giá trị của y là 7\n"
          ]
        }
      ],
      "source": [
        "# To take inputs from the user\n",
        "x = int(input(\"Nhập giá trị của biến x: \"))\n",
        "y = int(input(\"Nhập giá trị của biến y: \"))\n",
        "\n",
        "# create a temporary variable and swap the values\n",
        "temp = x\n",
        "x = y\n",
        "y = temp\n",
        "# Print the c=value of x, y after swapping\n",
        "print(f\"Sau khi hoán đổi, giá trị của x là {x} và giá trị của y là {y}\")\n"
      ]
    },
    {
      "cell_type": "code",
      "execution_count": 13,
      "metadata": {
        "colab": {
          "base_uri": "https://localhost:8080/"
        },
        "id": "Z9zXTGXaj_PY",
        "outputId": "677dfa4b-e0f3-457a-a076-4b08ca875e0d"
      },
      "outputs": [
        {
          "output_type": "stream",
          "name": "stdout",
          "text": [
            "Địa chỉ của biến x là 135516927132176\n",
            "Địa chỉ của biến y là 135516927132080\n",
            "Địa chỉ của biến temp là 135516927132080\n"
          ]
        }
      ],
      "source": [
        "### START CODE HERE ###\n",
        "# writing code to get the address (in RAM) of x, y, temp through the built-in function id()\n",
        "address_x = id(x)\n",
        "address_y = id(y)\n",
        "address_temp = id(temp)\n",
        "### END CODE HERE ###\n",
        "print(f\"Địa chỉ của biến x là {address_x}\")\n",
        "print(f\"Địa chỉ của biến y là {address_y}\")\n",
        "print(f\"Địa chỉ của biến temp là {address_temp}\")"
      ]
    },
    {
      "cell_type": "markdown",
      "metadata": {
        "id": "4WDVgaXOj_PZ"
      },
      "source": [
        "# 7. Program to Generate a Random Number\n",
        "https://docs.python.org/3/library/random.html"
      ]
    },
    {
      "cell_type": "code",
      "execution_count": 8,
      "metadata": {
        "colab": {
          "base_uri": "https://localhost:8080/"
        },
        "id": "ye7Ln_w9j_PZ",
        "outputId": "58143e65-5402-44ff-e13c-f940b12d7f7c"
      },
      "outputs": [
        {
          "output_type": "stream",
          "name": "stdout",
          "text": [
            "7\n"
          ]
        }
      ],
      "source": [
        "# Program to generate a random number between 0 and 9\n",
        "\n",
        "# importing the random module\n",
        "import random\n",
        "\n",
        "print(random.randint(0,9))\n",
        "\n",
        "# Uncomment to try different function in random module\n",
        "# print(random.randrange(9))\n",
        "# print(random.randrange(3,9))\n",
        "# print(random.random())\n",
        "# print(random.uniform(a,b))"
      ]
    },
    {
      "cell_type": "markdown",
      "metadata": {
        "id": "loRcsaLuj_Pa"
      },
      "source": [
        "# 8. Program to Convert Kilometers to Miles\n",
        "1 km = (1/1.609344) mi = 0.62137119 mi"
      ]
    },
    {
      "cell_type": "code",
      "execution_count": 9,
      "metadata": {
        "colab": {
          "base_uri": "https://localhost:8080/"
        },
        "id": "oSk2aIWdj_Pa",
        "outputId": "8a060916-41dd-429f-f3f2-9fcdde2bee17"
      },
      "outputs": [
        {
          "output_type": "stream",
          "name": "stdout",
          "text": [
            "Enter value in kilometers: 3\n",
            "3.00 kilometers is equal to 1.86 miles\n"
          ]
        }
      ],
      "source": [
        "# Taking kilometers input from the user\n",
        "kilometers = float(input(\"Enter value in kilometers: \"))\n",
        "\n",
        "# conversion factor\n",
        "conv_fac = 0.621371\n",
        "\n",
        "# calculate miles\n",
        "miles = kilometers * conv_fac\n",
        "print('%0.2f kilometers is equal to %0.2f miles' %(kilometers,miles))"
      ]
    },
    {
      "cell_type": "code",
      "execution_count": 19,
      "metadata": {
        "colab": {
          "base_uri": "https://localhost:8080/"
        },
        "id": "CwV_e1t4j_Pb",
        "outputId": "807d08e1-de05-432d-8877-35b60e18697e"
      },
      "outputs": [
        {
          "output_type": "stream",
          "name": "stdout",
          "text": [
            "1.8641130000000001 dặm bằng 2.9999916154200004 kilômét\n"
          ]
        }
      ],
      "source": [
        "### START CODE HERE ###\n",
        "# writing code to convert miles to kilometers\n",
        "kilometers = miles * 1.60934\n",
        "### END CODE HERE ###\n",
        "print(f\"{miles} dặm bằng {kilometers} kilômét\")\n"
      ]
    },
    {
      "cell_type": "markdown",
      "metadata": {
        "id": "h33c8komj_Pb"
      },
      "source": [
        "# 9. Program to Convert Celsius To Fahrenheit\n",
        "T(°F) = T(°C) × 1.8 + 32"
      ]
    },
    {
      "cell_type": "code",
      "execution_count": 20,
      "metadata": {
        "colab": {
          "base_uri": "https://localhost:8080/"
        },
        "id": "x_0aNoBej_Pb",
        "outputId": "33e71a38-9f14-4b3b-dcd6-694b9d993a43"
      },
      "outputs": [
        {
          "output_type": "stream",
          "name": "stdout",
          "text": [
            "Nhập độ Celsius: 4\n",
            "4.0 độ Celsius tương đương với 39.2 độ Fahrenheit.\n"
          ]
        }
      ],
      "source": [
        "### START CODE HERE ###\n",
        "# Taking celsius input from the user\n",
        "celsius = float(input(\"Nhập độ Celsius: \"))\n",
        "\n",
        "# conversion factor\n",
        "\n",
        "fahrenheit = celsius * 1.8 + 32\n",
        "# calculate Fahrenheit\n",
        "\n",
        "\n",
        "# print result\n",
        "print(f\"{celsius} độ Celsius tương đương với {fahrenheit} độ Fahrenheit.\")\n",
        "### END CODE HERE ###"
      ]
    }
  ],
  "metadata": {
    "kernelspec": {
      "display_name": "Python 3",
      "language": "python",
      "name": "python3"
    },
    "language_info": {
      "codemirror_mode": {
        "name": "ipython",
        "version": 3
      },
      "file_extension": ".py",
      "mimetype": "text/x-python",
      "name": "python",
      "nbconvert_exporter": "python",
      "pygments_lexer": "ipython3",
      "version": "3.11.5"
    },
    "vscode": {
      "interpreter": {
        "hash": "4e0cd404f3441ff64478218787de4b030b5746071943e1c3f0c93dd05ad958eb"
      }
    },
    "colab": {
      "provenance": []
    }
  },
  "nbformat": 4,
  "nbformat_minor": 0
}