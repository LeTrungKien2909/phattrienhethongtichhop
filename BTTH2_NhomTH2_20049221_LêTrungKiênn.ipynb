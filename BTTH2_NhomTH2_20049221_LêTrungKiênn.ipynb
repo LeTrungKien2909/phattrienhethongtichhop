{
  "cells": [
    {
      "cell_type": "markdown",
      "metadata": {
        "id": "q1EHW738hCGe"
      },
      "source": [
        "MSSV:20049221\n",
        "\n",
        "Họ và tên: Lê Trung Kiên\n",
        "\n",
        "Lớp học phần: 420300207401\n",
        "\n",
        "Nhóm thực hành  2"
      ]
    },
    {
      "cell_type": "markdown",
      "metadata": {
        "id": "FvR6px4khCGj"
      },
      "source": [
        "# 1. Decision Making and Loops\n",
        "---"
      ]
    },
    {
      "cell_type": "markdown",
      "metadata": {
        "id": "jWRP23DPhCGk"
      },
      "source": [
        "## 1.1. Viết chương trình kiểm tra một số là số dương, số âm hay bằng không không.\n",
        "\n",
        "Sử dụng 2 dạng của câu lệnh rễ nhánh:\n",
        "\n",
        "if ... elif ... else\n",
        "\n",
        "Nested if"
      ]
    },
    {
      "cell_type": "code",
      "execution_count": 1,
      "metadata": {
        "colab": {
          "base_uri": "https://localhost:8080/"
        },
        "id": "n8oskDlRhCGk",
        "outputId": "79479b49-bc6b-41a2-a548-2a230436efc9"
      },
      "outputs": [
        {
          "output_type": "stream",
          "name": "stdout",
          "text": [
            "Nhập vào một số: 12\n",
            "Số này là số dương\n"
          ]
        }
      ],
      "source": [
        "# Dạng 1 if ... elif ... else\n",
        "# Nhập số từ người dùng\n",
        "so = float(input(\"Nhập vào một số: \"))\n",
        "\n",
        "# Sử dụng câu lệnh if ... elif ... else\n",
        "if so > 0:\n",
        "    print(\"Số này là số dương\")\n",
        "elif so < 0:\n",
        "    print(\"Số này là số âm\")\n",
        "else:\n",
        "    print(\"Số này bằng không\")"
      ]
    },
    {
      "cell_type": "code",
      "execution_count": 2,
      "metadata": {
        "colab": {
          "base_uri": "https://localhost:8080/"
        },
        "id": "RWAFXrHRhCGm",
        "outputId": "d4c05bf1-a3fd-4667-c334-23bf3eeee4b9"
      },
      "outputs": [
        {
          "output_type": "stream",
          "name": "stdout",
          "text": [
            "Nhập vào một số: -24\n",
            "Số này là số âm\n"
          ]
        }
      ],
      "source": [
        "# Dạng 2: Nested if\n",
        "num = float(input(\"Nhập vào một số: \"))\n",
        "\n",
        "### START CODE HERE ###\n",
        "if num >= 0:\n",
        "    if num > 0:\n",
        "        print(\"Số này là số dương\")\n",
        "    else:\n",
        "        print(\"Số này bằng không\")\n",
        "else:\n",
        "    print(\"Số này là số âm\")\n",
        "### END CODE HERE ###"
      ]
    },
    {
      "cell_type": "markdown",
      "metadata": {
        "id": "ZqDWXv2hhCGn"
      },
      "source": [
        "## 1.2. Viết chương trình kiểm tra một năm có phải năm nhuận không.\n",
        "\n",
        "Năm nhuận là năm chia hết cho 4, trừ những năm đầu thế kỷ (chia hết cho 100). Những năm đầu thế kỷ là năm nhuận khi nó chia hết cho 400 (ví dụ năm 2100 không phải là năm nhuận, 2104 là năm nhuận).\n",
        "\n",
        "Sử dụng 2 dạng của câu lệnh rễ nhánh:\n",
        "\n",
        "if ... elif ... else\n",
        "\n",
        "Nested if"
      ]
    },
    {
      "cell_type": "code",
      "execution_count": 3,
      "metadata": {
        "colab": {
          "base_uri": "https://localhost:8080/"
        },
        "id": "akTzVklWhCGn",
        "outputId": "72c3e878-1856-4794-cf5c-67c269d24b9e"
      },
      "outputs": [
        {
          "output_type": "stream",
          "name": "stdout",
          "text": [
            "Nhập năm: 2024\n",
            "2024 là năm nhuận\n"
          ]
        }
      ],
      "source": [
        "# Sử dụng lệnh if lồng nhau\n",
        "year = int(input(\"Nhập năm: \"))\n",
        "\n",
        "if (year % 4) == 0:\n",
        "    if (year % 100) == 0:\n",
        "        if (year % 400) == 0:\n",
        "            print(\"{0} là năm nhuận\".format(year))\n",
        "        else:\n",
        "            print(\"{0} không phải là năm nhuận\".format(year))\n",
        "    else:\n",
        "        print(\"{0} là năm nhuận\".format(year))\n",
        "else:\n",
        "    print(\"{0} không phải là năm nhuận\".format(year))"
      ]
    },
    {
      "cell_type": "code",
      "execution_count": 4,
      "metadata": {
        "colab": {
          "base_uri": "https://localhost:8080/"
        },
        "id": "xk2s16sYhCGp",
        "outputId": "e3a6b8ad-dee9-410f-fe1c-410322b66749"
      },
      "outputs": [
        {
          "output_type": "stream",
          "name": "stdout",
          "text": [
            "Nhập năm: 2090\n",
            "2090 không phải là năm nhuận\n"
          ]
        }
      ],
      "source": [
        "# Sử dụng lệnh if ... elif ... else\n",
        "year = int(input(\"Nhập năm: \"))\n",
        "\n",
        "### START CODE HERE ###\n",
        "\n",
        "# Sử dụng câu lệnh if ... elif ... else\n",
        "if (year % 4 == 0 and year % 100 != 0) or (year % 400 == 0):\n",
        "    print(f\"{year} là năm nhuận\")\n",
        "else:\n",
        "    print(f\"{year} không phải là năm nhuận\")\n",
        "\n",
        "\n",
        "### END CODE HERE ###"
      ]
    },
    {
      "cell_type": "markdown",
      "metadata": {
        "id": "YiMA-bDAhCGq"
      },
      "source": [
        "## 1.3. Viết chương trình kiểm tra một số nguyên có phải số nguyên tố không. Nếu không phải là số nguyên tố in ra lý do."
      ]
    },
    {
      "cell_type": "code",
      "execution_count": 5,
      "metadata": {
        "colab": {
          "base_uri": "https://localhost:8080/"
        },
        "id": "IaXoIbj1hCGr",
        "outputId": "5748d6eb-2111-4de9-c973-768231f69b96"
      },
      "outputs": [
        {
          "output_type": "stream",
          "name": "stdout",
          "text": [
            "Enter a number: 6\n",
            "6 không phải là số nguyên tố vì nó chia hết cho 2\n"
          ]
        }
      ],
      "source": [
        "num = int(input(\"Enter a number: \"))\n",
        "\n",
        "# Số nguyên tố phải lớn hơn 1\n",
        "if num > 1:\n",
        "    for i in range(2,num):\n",
        "        if (num % i) == 0:\n",
        "            ### START CODE HERE ###\n",
        "          print(num, \"không phải là số nguyên tố vì nó chia hết cho\", i)\n",
        "          break\n",
        "    else:\n",
        "        print(num, \"là số nguyên tố\")\n",
        "        ### END CODE HERE ###\n",
        "\n",
        "else:\n",
        "    print(num,\"không phải là số nguyên tố\")"
      ]
    },
    {
      "cell_type": "markdown",
      "metadata": {
        "id": "xejgYE1mhCGs"
      },
      "source": [
        "## 1.4. Viết chương trình in ra tất cả các số nguyên tố trong khoảng (a,b)"
      ]
    },
    {
      "cell_type": "code",
      "execution_count": 6,
      "metadata": {
        "colab": {
          "base_uri": "https://localhost:8080/"
        },
        "id": "2OTGyiiChCGs",
        "outputId": "fb567914-45f0-4436-c755-5891fb46df8e"
      },
      "outputs": [
        {
          "output_type": "stream",
          "name": "stdout",
          "text": [
            "Prime numbers between 900 and 1000 are:\n",
            "907\n",
            "911\n",
            "919\n",
            "929\n",
            "937\n",
            "941\n",
            "947\n",
            "953\n",
            "967\n",
            "971\n",
            "977\n",
            "983\n",
            "991\n",
            "997\n"
          ]
        }
      ],
      "source": [
        "# Python program to display all the prime numbers within an interval\n",
        "\n",
        "lower = 900\n",
        "upper = 1000\n",
        "\n",
        "print(\"Prime numbers between\", lower, \"and\", upper, \"are:\")\n",
        "\n",
        "for num in range(lower, upper + 1):\n",
        "    if num > 1:\n",
        "        ### START CODE HERE ###\n",
        "        # Sử dụng for ... else\n",
        "        for i in range(2, int(num**0.5) + 1):\n",
        "          if(num % i) == 0:\n",
        "            break\n",
        "        else:\n",
        "            print(num)\n",
        "\n",
        "        ### END CODE HERE ###"
      ]
    },
    {
      "cell_type": "markdown",
      "metadata": {
        "id": "UWTTT2SNhCGs"
      },
      "source": [
        "## 1.5. Viết chương trình in ra 5 số Armstrong bé nhất.\n",
        "\n",
        "Một số nguyên dương gồm n chữ số được gọi là số Armstrong bậc n nếu\n",
        "\n",
        "abcd... = a^n + b^n + c^n + d^n + ...\n",
        "\n",
        "VD: 153 = 1*1*1 + 5*5*5 + 3*3*3"
      ]
    },
    {
      "cell_type": "code",
      "execution_count": 7,
      "metadata": {
        "colab": {
          "base_uri": "https://localhost:8080/"
        },
        "id": "net6BAeVhCGt",
        "outputId": "ba999f63-deba-452d-a8ec-b9ee819bfb31"
      },
      "outputs": [
        {
          "output_type": "stream",
          "name": "stdout",
          "text": [
            "5 số Armstrong bé nhất là:\n",
            "1\n",
            "3\n",
            "5\n",
            "7\n",
            "9\n"
          ]
        }
      ],
      "source": [
        "# initialize sum, count\n",
        "\n",
        "sum = 0\n",
        "count = 0\n",
        "num = 1\n",
        "print(\"5 số Armstrong bé nhất là:\")\n",
        "# Biến count được sử dụng để đếm số Armstrong đã tìm được\n",
        "while count < 5:\n",
        "    # Chuyển số thành xâu và sử dụng hàm len để tính số chữ số\n",
        "    order = len(str(num))\n",
        "\n",
        "    temp = num\n",
        "\n",
        "    # Tính tổng mũ của các chữ số\n",
        "    while temp > 0:\n",
        "        digit = temp % 10 # Tìm chữ số cuối cùng\n",
        "        ### START CODE HERE ###\n",
        "\n",
        "        sum += digit ** order # Cộng thêm giá trị của chữ số vào biến sum\n",
        "        temp //= 10 # Loại bỏ chữ số cuối cùng cho bước lặp tiếp theo\n",
        "\n",
        "        ### END CODE HERE ###\n",
        "\n",
        "    # display the result\n",
        "    if num == sum:\n",
        "        print(num)\n",
        "        count += 1\n",
        "    num += 1\n",
        "\n",
        "    # Đặt lại biến sum và tăng num lên 1 cho số tiếp theo\n",
        "    sum = 0\n",
        "    num += 1"
      ]
    },
    {
      "cell_type": "markdown",
      "metadata": {
        "id": "XM-Ab1KbhCGt"
      },
      "source": [
        "# 2. Functions\n",
        "---"
      ]
    },
    {
      "cell_type": "markdown",
      "metadata": {
        "id": "UqKt4g9ShCGt"
      },
      "source": [
        "## 2.1. Viết hàm nhận vào một số nguyên, trả về giá trị True nếu nó là số nguyên tố, và False nếu nó không phải là số nguyên tố.\n",
        "\n",
        "Sử dụng code của Bài 1.3"
      ]
    },
    {
      "cell_type": "code",
      "execution_count": 8,
      "metadata": {
        "id": "eYs3Sd5mhCGu"
      },
      "outputs": [],
      "source": [
        "def prime(n):\n",
        "    ### START CODE HERE ###\n",
        "    # Sử dụng code của Bài 1.3\n",
        "    if n > 1:\n",
        "      for i in range(2, n):\n",
        "        if(n % i) == 0:\n",
        "          return False\n",
        "      return True\n",
        "    else:\n",
        "      return False\n",
        "    ### END CODE HERE ###"
      ]
    },
    {
      "cell_type": "markdown",
      "metadata": {
        "id": "HqL9bDkKhCGu"
      },
      "source": [
        "Kiểm tra hoạt động của hàm prime(n) đã viết"
      ]
    },
    {
      "cell_type": "code",
      "execution_count": 9,
      "metadata": {
        "colab": {
          "base_uri": "https://localhost:8080/"
        },
        "id": "pgEbYmaBhCGu",
        "outputId": "8f95b255-5148-4123-86c4-81beff585f10"
      },
      "outputs": [
        {
          "output_type": "stream",
          "name": "stdout",
          "text": [
            "Nhập vào một số:12\n",
            "12 không phải là số nguyên tố\n"
          ]
        }
      ],
      "source": [
        "n = int(input(\"Nhập vào một số:\"))\n",
        "if prime(n):\n",
        "    print(n, 'là số nguyên tố')\n",
        "else:\n",
        "    print(n, 'không phải là số nguyên tố')"
      ]
    },
    {
      "cell_type": "markdown",
      "metadata": {
        "id": "eRTO_tQahCGv"
      },
      "source": [
        "## 2.2. Viết hàm nhận vào một số nguyên, trả về giá trị True nếu nó là số Armstrong, và False nếu nó không phải là số Armstrong.\n",
        "\n",
        "Sử dụng code của Bài 1.5"
      ]
    },
    {
      "cell_type": "code",
      "execution_count": 10,
      "metadata": {
        "id": "4aaI_vn8hCGw"
      },
      "outputs": [],
      "source": [
        "def armstrong(n):\n",
        "    ### START CODE HERE ###\n",
        "    # Sử dụng code của Bài 1.5\n",
        "  order = len(str(n))\n",
        "  temp = n\n",
        "  sum_of_powers = 0\n",
        "\n",
        "  while temp > 0:\n",
        "        digit = temp % 10  # Lấy chữ số cuối cùng\n",
        "        sum_of_powers += digit ** order  # Tính tổng lũy thừa bậc order của các chữ số\n",
        "        temp //= 10  # Loại bỏ chữ số cuối cùng cho bước lặp tiếp theo\n",
        "\n",
        "  return sum_of_powers == n  # So sánh tổng lũy thừa bậc order với số gốc\n",
        "    ### END CODE HERE ###"
      ]
    },
    {
      "cell_type": "markdown",
      "metadata": {
        "id": "HZYlE4eahCGw"
      },
      "source": [
        "Kiểm tra hoạt động của hàm armstrong(n) đã viết"
      ]
    },
    {
      "cell_type": "code",
      "execution_count": 11,
      "metadata": {
        "colab": {
          "base_uri": "https://localhost:8080/"
        },
        "id": "7wGtt6o1hCGx",
        "outputId": "01c9c09c-891d-48e6-8a32-2769c7651b48"
      },
      "outputs": [
        {
          "output_type": "stream",
          "name": "stdout",
          "text": [
            "9 là số Armstrong\n"
          ]
        }
      ],
      "source": [
        "n = 9\n",
        "# n = 153\n",
        "# n = 35\n",
        "if armstrong(n):\n",
        "    print(n, 'là số Armstrong')\n",
        "else:\n",
        "    print(n, 'không phải là số Armstrong')"
      ]
    },
    {
      "cell_type": "markdown",
      "metadata": {
        "id": "fIhQlbP6hCGx"
      },
      "source": [
        "## 2.3. Sử dụng hàm Lambda để in ra 10 lũy thừa đầu tiên của 2."
      ]
    },
    {
      "cell_type": "code",
      "execution_count": 12,
      "metadata": {
        "colab": {
          "base_uri": "https://localhost:8080/"
        },
        "id": "QasfTbLDhCGx",
        "outputId": "8a633999-aa98-466b-9765-683d741b2335"
      },
      "outputs": [
        {
          "output_type": "stream",
          "name": "stdout",
          "text": [
            "2^0 = 1\n",
            "2^1 = 2\n",
            "2^2 = 4\n",
            "2^3 = 8\n",
            "2^4 = 16\n",
            "2^5 = 32\n",
            "2^6 = 64\n",
            "2^7 = 128\n",
            "2^8 = 256\n",
            "2^9 = 512\n"
          ]
        }
      ],
      "source": [
        "# Sử dụng hàm lambda để tính lũy thừa của 2\n",
        "powers_of_2 = lambda n: 2 ** n\n",
        "\n",
        "# In ra 10 lũy thừa đầu tiên của 2\n",
        "for i in range(10):\n",
        "    result = powers_of_2(i)\n",
        "    print(f\"2^{i} = {result}\")"
      ]
    },
    {
      "cell_type": "markdown",
      "metadata": {
        "id": "6zoThEWchCGy"
      },
      "source": [
        "## 2.4. Sử dụng hàm Lambda để in ra 10 số chính phương đầu tiên"
      ]
    },
    {
      "cell_type": "code",
      "execution_count": 13,
      "metadata": {
        "colab": {
          "base_uri": "https://localhost:8080/"
        },
        "id": "ZDc_qNUXhCGy",
        "outputId": "42c7b3a3-785e-4d1e-ee80-6578870ae531"
      },
      "outputs": [
        {
          "output_type": "stream",
          "name": "stdout",
          "text": [
            "1\n",
            "4\n",
            "9\n",
            "16\n",
            "25\n",
            "36\n",
            "49\n",
            "64\n",
            "81\n",
            "100\n"
          ]
        }
      ],
      "source": [
        "terms = 10\n",
        "# use anonymous function\n",
        "### START CODE HERE ###\n",
        "# Sử dụng kết hợp với hàm map()\n",
        "square_numbers = map(lambda x: x**2, range(1, terms * 2 + 1))\n",
        "square_numbers = filter(lambda x: x**0.5 == int(x**0.5), square_numbers)\n",
        "\n",
        "# Lấy 10 số chính phương đầu tiên và chuyển chúng thành danh sách\n",
        "result = list(square_numbers)[:terms]\n",
        "### END CODE HERE ###\n",
        "for i in range(terms):\n",
        "  print(result[i])"
      ]
    },
    {
      "cell_type": "markdown",
      "metadata": {
        "id": "zaFI_ykAhCGy"
      },
      "source": [
        "## 2.5. Sử dụng hàm Lambda để in ra các số lẻ trong một dãy"
      ]
    },
    {
      "cell_type": "code",
      "execution_count": 14,
      "metadata": {
        "colab": {
          "base_uri": "https://localhost:8080/"
        },
        "id": "xSzWzNj4hCGy",
        "outputId": "943fd6a7-8911-4cb5-84fa-8bea787cc35f"
      },
      "outputs": [
        {
          "output_type": "stream",
          "name": "stdout",
          "text": [
            "Các số lẻ trong dãy [65, 39, 339, 221]\n"
          ]
        }
      ],
      "source": [
        "# Take a list of numbers\n",
        "my_list = [12, 65, 54, 39, 102, 339, 221,]\n",
        "\n",
        "# use anonymous function to filter\n",
        "result = list(filter(lambda x: (x % 2 == 1), my_list))\n",
        "\n",
        "# display the result\n",
        "print(\"Các số lẻ trong dãy\",result)"
      ]
    },
    {
      "cell_type": "markdown",
      "metadata": {
        "id": "_OuU-mughCGz"
      },
      "source": [
        "## 2.5. Sử dụng hàm filter() để in ra các số nguyên tố trong một dãy"
      ]
    },
    {
      "cell_type": "code",
      "execution_count": 15,
      "metadata": {
        "colab": {
          "base_uri": "https://localhost:8080/"
        },
        "id": "wuSchqfqhCGz",
        "outputId": "c8797542-5696-41e7-fe2d-d173fc0a4836"
      },
      "outputs": [
        {
          "output_type": "stream",
          "name": "stdout",
          "text": [
            "Các số nguyên tố trong dãy [37, 47]\n"
          ]
        }
      ],
      "source": [
        "# Take a list of numbers\n",
        "my_list = [12, 65, 54, 39, 102, 339, 221, 37, 47]\n",
        "\n",
        "# định nghĩa hàm nhận vào một số nguyên,\n",
        "# trả về giá trị True nếu nó là số nguyên tố,\n",
        "# và False nếu nó không phải là số nguyên tố.\n",
        "def prime(n):\n",
        "    ### START CODE HERE ###\n",
        "    if n <= 1:\n",
        "        return False\n",
        "    if n <= 3:\n",
        "        return True\n",
        "    if n % 2 == 0 or n % 3 == 0:\n",
        "        return False\n",
        "    i = 5\n",
        "    while i * i <= n:\n",
        "        if n % i == 0 or n % (i + 2) == 0:\n",
        "            return False\n",
        "        i += 6\n",
        "    return True\n",
        "    ### END CODE HERE ###\n",
        "# use filter()\n",
        "    ### START CODE HERE ###\n",
        "result = list(filter(prime, my_list))\n",
        "    ### END CODE HERE ###\n",
        "# display the result\n",
        "print(\"Các số nguyên tố trong dãy\",result)"
      ]
    }
  ],
  "metadata": {
    "kernelspec": {
      "display_name": "Python 3",
      "language": "python",
      "name": "python3"
    },
    "language_info": {
      "codemirror_mode": {
        "name": "ipython",
        "version": 3
      },
      "file_extension": ".py",
      "mimetype": "text/x-python",
      "name": "python",
      "nbconvert_exporter": "python",
      "pygments_lexer": "ipython3",
      "version": "3.11.4"
    },
    "colab": {
      "provenance": []
    }
  },
  "nbformat": 4,
  "nbformat_minor": 0
}